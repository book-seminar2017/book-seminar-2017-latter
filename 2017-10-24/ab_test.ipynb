{
 "cells": [
  {
   "cell_type": "markdown",
   "metadata": {
    "slideshow": {
     "slide_type": "slide"
    }
   },
   "source": [
    "# 2章 PyMCについてもう少し"
   ]
  },
  {
   "cell_type": "markdown",
   "metadata": {
    "slideshow": {
     "slide_type": "slide"
    }
   },
   "source": [
    "## 2.1はじめに\n",
    "    \n",
    "hoge は親変数 λ が確定しても変数の値は依然としてランダムである。これをstochastic変数という。random()メソッドを呼ぶと新たに値がサンプリングされる。\n",
    "\n",
    "hoge_plus_1 は親変数 hoge が確定すると値がその場で確定する。これをdeterministic変数という。"
   ]
  },
  {
   "cell_type": "code",
   "execution_count": 1,
   "metadata": {
    "collapsed": true,
    "slideshow": {
     "slide_type": "skip"
    }
   },
   "outputs": [],
   "source": [
    "import pymc as pm\n",
    "import numpy as np"
   ]
  },
  {
   "cell_type": "code",
   "execution_count": 2,
   "metadata": {
    "collapsed": true,
    "slideshow": {
     "slide_type": "-"
    }
   },
   "outputs": [],
   "source": [
    "hoge=pm.Exponential(\"hoge\",1)\n",
    "hoge_plus_1=hoge+1"
   ]
  },
  {
   "cell_type": "code",
   "execution_count": 3,
   "metadata": {
    "slideshow": {
     "slide_type": "-"
    }
   },
   "outputs": [
    {
     "name": "stdout",
     "output_type": "stream",
     "text": [
      "hoge.value =  0.21546839338890156\n",
      "hoge_plus_1.value =  1.21546839339 \n",
      "\n",
      "After Calling .Random()  \n",
      "\n",
      "hoge.value =  0.5563901523014116\n",
      "hoge_plus_1.value =  1.5563901523\n"
     ]
    }
   ],
   "source": [
    "print(\"hoge.value = \",hoge.value)\n",
    "print(\"hoge_plus_1.value = \",hoge_plus_1.value,\"\\n\")\n",
    "hoge.random()\n",
    "print(\"After Calling .Random()  \\n\")\n",
    "print(\"hoge.value = \",hoge.value)\n",
    "print(\"hoge_plus_1.value = \",hoge_plus_1.value)"
   ]
  },
  {
   "cell_type": "markdown",
   "metadata": {
    "slideshow": {
     "slide_type": "slide"
    }
   },
   "source": [
    "deterministic変数を生成するには\n",
    "\n",
    "    @pm.deterministic\n",
    "        def some_deterministic_var(v1=v1,):\n",
    "            ...\n",
    "\n",
    "こうすると明示的に生成できる。(キーワード引数じゃないとだめ)\n",
    "\n",
    "またhoge_plus_1のように四則演算を行うと暗黙にdeterministic変数になる。"
   ]
  },
  {
   "cell_type": "code",
   "execution_count": 4,
   "metadata": {
    "slideshow": {
     "slide_type": "-"
    }
   },
   "outputs": [
    {
     "name": "stdout",
     "output_type": "stream",
     "text": [
      "<class 'pymc.PyMCObjects.Deterministic'>\n",
      "<class 'pymc.PyMCObjects.Deterministic'>\n"
     ]
    }
   ],
   "source": [
    "sigma=1\n",
    "@pm.deterministic\n",
    "def var(sigma = sigma):\n",
    "    return sigma**2\n",
    "print(type(var))\n",
    "print(type(hoge_plus_1))\n"
   ]
  },
  {
   "cell_type": "markdown",
   "metadata": {
    "slideshow": {
     "slide_type": "slide"
    }
   },
   "source": [
    "ここまでで事前分布の指定ができるようになった。次に観測データを組み込む。observed引数をTrueにすることによって組み込む事ができる。random()メソッドを呼んでも固定値なので変わらない。\n",
    "\n"
   ]
  },
  {
   "cell_type": "code",
   "execution_count": 5,
   "metadata": {
    "slideshow": {
     "slide_type": "-"
    }
   },
   "outputs": [
    {
     "name": "stdout",
     "output_type": "stream",
     "text": [
      "fixed_var.value =  [10 15 20 25 30] \n",
      "\n",
      "After Calling .Random()  \n",
      "fixed_var.value =  [10 15 20 25 30]\n"
     ]
    }
   ],
   "source": [
    "fixed_var=pm.Poisson(\"fixed_var\",1,value=np.array([10,15,20,25,30]),observed=True)\n",
    "print(\"fixed_var.value = \",fixed_var.value,\"\\n\")\n",
    "fixed_var.random()\n",
    "print(\"After Calling .Random()  \")\n",
    "print(\"fixed_var.value = \",fixed_var.value)"
   ]
  },
  {
   "cell_type": "markdown",
   "metadata": {
    "slideshow": {
     "slide_type": "slide"
    }
   },
   "source": [
    "## 2.2 モデリングのアプローチ\n",
    "\n",
    "以前のメッセージ受信数データを扱う。観測されたデータをどのように生成されたかを考える。\n",
    "\n"
   ]
  },
  {
   "cell_type": "code",
   "execution_count": 6,
   "metadata": {
    "slideshow": {
     "slide_type": "-"
    }
   },
   "outputs": [
    {
     "data": {
      "text/plain": [
       "(0, 74)"
      ]
     },
     "execution_count": 6,
     "metadata": {},
     "output_type": "execute_result"
    },
    {
     "data": {
      "image/png": "[encoded data removed]",
      "text/plain": [
       "<matplotlib.figure.Figure at 0x10f605160>"
      ]
     },
     "metadata": {},
     "output_type": "display_data"
    }
   ],
   "source": [
    "%matplotlib inline\n",
    "from IPython.core.pylabtools import figsize\n",
    "import matplotlib.pyplot as plt\n",
    "figsize(12.5, 3.5)\n",
    "count_data = np.loadtxt(\"data/txtdata.csv\")\n",
    "n_count_data = len(count_data)\n",
    "plt.bar(np.arange(n_count_data), count_data, color=\"#348ABD\")\n",
    "plt.xlabel(\"Time (days)\")\n",
    "plt.ylabel(\"count of text-msgs received\")\n",
    "plt.title(\"Did the user's texting habits change over time?\")\n",
    "plt.xlim(0, n_count_data)"
   ]
  },
  {
   "cell_type": "markdown",
   "metadata": {
    "slideshow": {
     "slide_type": "slide"
    }
   },
   "source": [
    "1. 計数のデータはポアソン分布が良いのでは？\n",
    "1. ある日を境にメッセージの振る舞いが変わっていそうだから、$\\lambda$は2つ必要そうだ。まだ変化の日を$\\tau$としよう。\n",
    "1. ポアソン分布にはパラメータ$\\lambda$が必要だがわからない。正である必要があるから指数分布がいいだろう。指数分布にもパラメータ$\\alpha$がある。\n",
    "1. $\\alpha$も分からない。しかし特に信念があるわけではないから定数でいいだろう。$\\alpha$にちょうどいい値はあるだろうか。$\\alpha$に対して$\\lambda$の平均値が観測データの平均となるようにとるとちょうど良さそうだ。\n",
    "1. $\\tau$については何日目なのか見当がつかないので一様分布でいいだろう。\n",
    "\n",
    "以下にこの考え方のグラフィカルモデルを書く。\n",
    "<img src=\"http://i.imgur.com/7J30oCG.png\" width = 700/>\n",
    "\n",
    "これをpymcで記述する。"
   ]
  },
  {
   "cell_type": "markdown",
   "metadata": {
    "slideshow": {
     "slide_type": "slide"
    }
   },
   "source": [
    "$\\tau$日を離散一様分布でサンプリングする。"
   ]
  },
  {
   "cell_type": "code",
   "execution_count": 7,
   "metadata": {
    "slideshow": {
     "slide_type": "-"
    }
   },
   "outputs": [
    {
     "name": "stdout",
     "output_type": "stream",
     "text": [
      "18\n"
     ]
    }
   ],
   "source": [
    "tau=pm.rdiscrete_uniform(0,80)\n",
    "print(tau)"
   ]
  },
  {
   "cell_type": "markdown",
   "metadata": {
    "slideshow": {
     "slide_type": "slide"
    }
   },
   "source": [
    "指数分布$Exp(\\alpha)$から$\\lambda_1$と$\\lambda_2$をサンプリングする。\n",
    "\n",
    "ここで指数分布は$f_Z(z | \\lambda) = \\lambda e^{-\\lambda z }, \\;\\; z\\ge 0$であるから指数分布の期待値は$E[\\; Z \\;|\\; \\lambda \\;] = \\frac{1}{\\lambda}$となる。またポアソン分布$P(Z = k) =\\frac{ \\lambda^k e^{-\\lambda} }{k!}, \\; \\; k=0,1,2, \\dots, \\; \\; \\lambda \\in \\mathbb{R}_{>0} $の期待値は$E[ \\;Z\\; | \\; \\lambda \\;] = \\lambda $となる。よってデータの平均をとって逆数を取ればαがもとまる。"
   ]
  },
  {
   "cell_type": "code",
   "execution_count": 8,
   "metadata": {
    "slideshow": {
     "slide_type": "-"
    }
   },
   "outputs": [
    {
     "name": "stdout",
     "output_type": "stream",
     "text": [
      "0.0506502395619\n"
     ]
    }
   ],
   "source": [
    "alpha=1/count_data.mean()\n",
    "print(alpha)\n",
    "lambda_1,lambda_2=pm.rexponential(alpha,2)"
   ]
  },
  {
   "cell_type": "markdown",
   "metadata": {
    "slideshow": {
     "slide_type": "slide"
    }
   },
   "source": [
    "上記のようにlambda_1,lambda_2が定めたら、それを用いて日にちごとの$\\lambda$の配列\n",
    "lambdaが作られる。"
   ]
  },
  {
   "cell_type": "code",
   "execution_count": 9,
   "metadata": {
    "slideshow": {
     "slide_type": "-"
    }
   },
   "outputs": [
    {
     "name": "stdout",
     "output_type": "stream",
     "text": [
      "[ 21.748675    21.748675    21.748675    21.748675    21.748675    21.748675\n",
      "  21.748675    21.748675    21.748675    21.748675    21.748675    21.748675\n",
      "  21.748675    21.748675    21.748675    21.748675    21.748675    21.748675\n",
      "   5.73471551   5.73471551   5.73471551   5.73471551   5.73471551\n",
      "   5.73471551   5.73471551   5.73471551   5.73471551   5.73471551\n",
      "   5.73471551   5.73471551   5.73471551   5.73471551   5.73471551\n",
      "   5.73471551   5.73471551   5.73471551   5.73471551   5.73471551\n",
      "   5.73471551   5.73471551   5.73471551   5.73471551   5.73471551\n",
      "   5.73471551   5.73471551   5.73471551   5.73471551   5.73471551\n",
      "   5.73471551   5.73471551   5.73471551   5.73471551   5.73471551\n",
      "   5.73471551   5.73471551   5.73471551   5.73471551   5.73471551\n",
      "   5.73471551   5.73471551   5.73471551   5.73471551   5.73471551\n",
      "   5.73471551   5.73471551   5.73471551   5.73471551   5.73471551\n",
      "   5.73471551   5.73471551   5.73471551   5.73471551   5.73471551\n",
      "   5.73471551   5.73471551   5.73471551   5.73471551   5.73471551\n",
      "   5.73471551   5.73471551]\n"
     ]
    }
   ],
   "source": [
    "lambda_=np.r_[lambda_1*np.ones(tau),lambda_2*np.ones(80-tau)]\n",
    "print(lambda_)"
   ]
  },
  {
   "cell_type": "markdown",
   "metadata": {
    "slideshow": {
     "slide_type": "slide"
    }
   },
   "source": [
    "この$\\lambda$によって以下のデータを人工的に作成できる。"
   ]
  },
  {
   "cell_type": "code",
   "execution_count": 10,
   "metadata": {
    "slideshow": {
     "slide_type": "-"
    }
   },
   "outputs": [
    {
     "name": "stdout",
     "output_type": "stream",
     "text": [
      "[20 21 27 13 19 16 16 20 29 20 19 26 29 22 17 25 18 18  4 11  4  9  6 12  6\n",
      "  5 10  4  7  8  5  6  3  5  9  4  5  5  5  8  5  5  4  1  7  6  9  5  4  4\n",
      "  7  5  1  2  2  5  2  5  8  1  6  6  4  3  7  6  9  7  8  5 12  7  8  9  2\n",
      "  4  5  6  5  5]\n"
     ]
    }
   ],
   "source": [
    "data=pm.rpoisson(lambda_)\n",
    "print(data)"
   ]
  },
  {
   "cell_type": "code",
   "execution_count": 11,
   "metadata": {
    "slideshow": {
     "slide_type": "-"
    }
   },
   "outputs": [
    {
     "data": {
      "image/png": "[encoded data removed]",
      "text/plain": [
       "<matplotlib.figure.Figure at 0x1110d09b0>"
      ]
     },
     "metadata": {},
     "output_type": "display_data"
    }
   ],
   "source": [
    "plt.bar(np.arange(80), data, color=\"#348ABD\")\n",
    "plt.bar(tau - 1, data[tau - 1], color=\"r\", label=\"user behaviour changed\")\n",
    "plt.xlabel(\"Time (days)\")\n",
    "plt.ylabel(\"count of text-msgs received\")\n",
    "plt.title(\"Artificial dataset\")\n",
    "plt.xlim(0, 80)\n",
    "plt.legend();"
   ]
  },
  {
   "cell_type": "markdown",
   "metadata": {
    "slideshow": {
     "slide_type": "slide"
    }
   },
   "source": [
    "以下にいくつかのデータを生成して見たものを示す。"
   ]
  },
  {
   "cell_type": "code",
   "execution_count": 12,
   "metadata": {
    "slideshow": {
     "slide_type": "-"
    }
   },
   "outputs": [
    {
     "data": {
      "image/png": "[encoded data removed]",
      "text/plain": [
       "<matplotlib.figure.Figure at 0x114656b00>"
      ]
     },
     "metadata": {},
     "output_type": "display_data"
    }
   ],
   "source": [
    "def plot_artificial_sms_dataset():\n",
    "    tau = pm.rdiscrete_uniform(0, 80)\n",
    "    alpha = 1. / 20.\n",
    "    lambda_1, lambda_2 = pm.rexponential(alpha, 2)\n",
    "    data = np.r_[pm.rpoisson(lambda_1, tau), pm.rpoisson(lambda_2, 80 - tau)]\n",
    "    plt.bar(np.arange(80), data, color=\"#348ABD\")\n",
    "    plt.bar(tau - 1, data[tau - 1], color=\"r\", label=\"user behaviour changed\")\n",
    "    plt.xlim(0, 80)\n",
    "\n",
    "figsize(12.5, 5)\n",
    "plt.suptitle(\"More examples of artificial datasets\", fontsize=14)\n",
    "for i in range(1, 5):\n",
    "    plt.subplot(4, 1, i)\n",
    "    plot_artificial_sms_dataset()"
   ]
  },
  {
   "cell_type": "markdown",
   "metadata": {
    "collapsed": true,
    "slideshow": {
     "slide_type": "slide"
    }
   },
   "source": [
    "## 例題：ベイズ的A/Bテスト\n",
    "\n",
    "A/Bテストとは、2つの異なる処置の効果の差を決定する統計処理ツールのこと。例えば製薬会社が薬Aと薬Bの効果の違いを知りたいとする。その時患者グループを２つに分割し、一方に薬Aを、もう一方に薬Bを処方する。この試験を繰り返し、統計学者がその効果を測定する。同じような例にどちらのウェブサイトのコンバージョン(登録、購入等のアクション)が良いかがあげられる。この際グループ間での差を一つだけに絞り込む。\n",
    "\n",
    "\n",
    "実験後の分析としてp値等を用いた仮設検定を行う事が多いが、ここではベイズ的アプローチを学ぶ。後者の例であるウェブサイトについて考える。サイトAをみてユーザーが最終的にコンバージョンに繋がる確率を$p_A$と仮定する。この確率は実際には解らないがサイトAの有効性を示す。\n",
    "\n",
    "N人のうちn人がコンバージョンにつながったとしても$n/N$が$p_A$と等しいとは限らない。(例えばサイコロを投げて1がでる真の確率は1/6だが6回投げても1回も出ないことも多々ある。)ベイズ統計を使えば適切ば事前分布と観測データを元にして真の妥当な確率を推論する事ができる。今回の例では$N$(全訪問者数)と$n$(コンバージョン数)からコンバージョンの真の頻度を推定することになる。"
   ]
  },
  {
   "cell_type": "markdown",
   "metadata": {
    "collapsed": true,
    "slideshow": {
     "slide_type": "slide"
    }
   },
   "source": [
    "$p_A$の値に対して私たちは特に確信がないので$[0,1]$の一様分布でいいだろう。"
   ]
  },
  {
   "cell_type": "code",
   "execution_count": 13,
   "metadata": {
    "slideshow": {
     "slide_type": "-"
    }
   },
   "outputs": [
    {
     "name": "stdout",
     "output_type": "stream",
     "text": [
      "0.2690516118616135\n"
     ]
    }
   ],
   "source": [
    "p = pm.Uniform('p', lower = 0,  upper=1)\n",
    "print(p.value)"
   ]
  },
  {
   "cell_type": "markdown",
   "metadata": {
    "slideshow": {
     "slide_type": "-"
    }
   },
   "source": [
    "人口データのシミュレーションを行う。$p_A=0.05$として$N=1500$ユーザーがサイトAを見せられたと仮定する。$N$回の試行をシミュレートするためにベルヌーイ分布を用いる。もちろん実際には$p_A$の値は知らないがここでは知っているものとしてシミュレートする。"
   ]
  },
  {
   "cell_type": "code",
   "execution_count": 14,
   "metadata": {},
   "outputs": [
    {
     "name": "stdout",
     "output_type": "stream",
     "text": [
      "[False  True False ..., False False False]\n",
      "0.046\n"
     ]
    }
   ],
   "source": [
    "p_true = 0.05  \n",
    "N = 1500\n",
    "\n",
    "occurrences = pm.rbernoulli(p_true, N) #Ber(0.05)からN個の値をサンプリング\n",
    "print(occurrences)  \n",
    "print(occurrences.mean())"
   ]
  },
  {
   "cell_type": "markdown",
   "metadata": {
    "slideshow": {
     "slide_type": "slide"
    }
   },
   "source": [
    "観測データをPyMCのobs変数に設定して推論アルゴリズムを実行する。"
   ]
  },
  {
   "cell_type": "code",
   "execution_count": 15,
   "metadata": {},
   "outputs": [
    {
     "name": "stdout",
     "output_type": "stream",
     "text": [
      " [-----------------100%-----------------] 18000 of 18000 complete in 0.7 sec"
     ]
    }
   ],
   "source": [
    "obs = pm.Bernoulli(\"obs\", p, value=occurrences, observed=True)\n",
    "mcmc = pm.MCMC([p, obs])\n",
    "mcmc.sample(18000, 1000)"
   ]
  },
  {
   "cell_type": "markdown",
   "metadata": {
    "slideshow": {
     "slide_type": "-"
    }
   },
   "source": [
    "未知数$p_A$の事後分布のプロットを示す。得られた事後分布は$p_A$の真の値はここだろう！という値が大きくなっている"
   ]
  },
  {
   "cell_type": "code",
   "execution_count": 16,
   "metadata": {},
   "outputs": [
    {
     "data": {
      "image/png": "[encoded data removed]",
      "text/plain": [
       "<matplotlib.figure.Figure at 0x114a64978>"
      ]
     },
     "metadata": {},
     "output_type": "display_data"
    }
   ],
   "source": [
    "figsize(12.5, 4)\n",
    "plt.title(\"Posterior distribution of $p_A$, the true effectiveness of site A\")\n",
    "plt.vlines(p_true, 0, 90, linestyle=\"--\", label=\"true $p_A$ (unknown)\")\n",
    "plt.hist(mcmc.trace(\"p\")[:], bins=25, histtype=\"stepfilled\", normed=True)\n",
    "plt.legend();"
   ]
  },
  {
   "cell_type": "markdown",
   "metadata": {
    "slideshow": {
     "slide_type": "slide"
    }
   },
   "source": [
    "サイトBについても同じように分析すれば$p_B$の事後確率を求める事ができる。実際に知りたいのは$delta=p_A - p_B$なのでこの三つをまとめて推論しよう。$p_B=0.04$と仮定し、$N_B=750  (= N_A /2)$とする。同様にサイトBに関してもシミュレーションでデータを生成する。"
   ]
  },
  {
   "cell_type": "code",
   "execution_count": 17,
   "metadata": {},
   "outputs": [
    {
     "name": "stdout",
     "output_type": "stream",
     "text": [
      "0.0506666666667\n",
      "0.0493333333333\n"
     ]
    }
   ],
   "source": [
    "import pymc as pm\n",
    "figsize(12, 4)\n",
    "\n",
    "# these two quantities are unknown to us.\n",
    "true_p_A = 0.05\n",
    "true_p_B = 0.04\n",
    "\n",
    "# notice the unequal sample sizes -- no problem in Bayesian analysis.\n",
    "N_A = 1500\n",
    "N_B = 750\n",
    "\n",
    "# generate some observations\n",
    "observations_A = pm.rbernoulli(true_p_A, N_A)\n",
    "observations_B = pm.rbernoulli(true_p_B, N_B)\n",
    "print(observations_A.mean())\n",
    "print(observations_B.mean())"
   ]
  },
  {
   "cell_type": "markdown",
   "metadata": {
    "slideshow": {
     "slide_type": "slide"
    }
   },
   "source": [
    "データの生成は終わったので$p_A$、$p_B$を推論する。"
   ]
  },
  {
   "cell_type": "code",
   "execution_count": 18,
   "metadata": {},
   "outputs": [
    {
     "name": "stdout",
     "output_type": "stream",
     "text": [
      " [-----------------100%-----------------] 20000 of 20000 complete in 1.5 sec"
     ]
    }
   ],
   "source": [
    "#[0,1]の一様分布\n",
    "p_A = pm.Uniform(\"p_A\", 0, 1)\n",
    "p_B = pm.Uniform(\"p_B\", 0, 1)\n",
    "\n",
    "#deltaは引き算なのでdeterministic変数になる。(デコレーターを使わずとも\n",
    "#四則演算を使えば暗黙にadeterministicになる)\n",
    "\n",
    "@pm.deterministic\n",
    "def delta(p_A=p_A, p_B=p_B):\n",
    "    return p_A - p_B\n",
    "#observedをTrueにして先ほどのデータを使う。\n",
    "obs_A = pm.Bernoulli(\"obs_A\", p_A, value=observations_A, observed=True)\n",
    "obs_B = pm.Bernoulli(\"obs_B\", p_B, value=observations_B, observed=True)\n",
    "\n",
    "mcmc = pm.MCMC([p_A, p_B, delta, obs_A, obs_B])\n",
    "mcmc.sample(20000, 1000)"
   ]
  },
  {
   "cell_type": "markdown",
   "metadata": {
    "slideshow": {
     "slide_type": "slide"
    }
   },
   "source": [
    "3つの事後分布を以下に示す。サイトBについてはデータが少ないので$p_B$の裾野が広くなっている。$delta$の事後分布については大部分が$delta=0$よりも右にあるのでサイトAの方がコンバージョンが良いことを示す。"
   ]
  },
  {
   "cell_type": "code",
   "execution_count": 19,
   "metadata": {},
   "outputs": [
    {
     "data": {
      "image/png": "[encoded data removed]",
      "text/plain": [
       "<matplotlib.figure.Figure at 0x114a4bba8>"
      ]
     },
     "metadata": {},
     "output_type": "display_data"
    }
   ],
   "source": [
    "p_A_samples = mcmc.trace(\"p_A\")[:]\n",
    "p_B_samples = mcmc.trace(\"p_B\")[:]\n",
    "delta_samples = mcmc.trace(\"delta\")[:]\n",
    "\n",
    "figsize(12.5, 10)\n",
    "ax = plt.subplot(311)\n",
    "\n",
    "plt.xlim(0, .1)\n",
    "plt.hist(p_A_samples, histtype='stepfilled', bins=25, alpha=0.85,\n",
    "         label=\"posterior of $p_A$\", color=\"#A60628\", normed=True)\n",
    "plt.vlines(true_p_A, 0, 80, linestyle=\"--\", label=\"true $p_A$ (unknown)\")\n",
    "plt.legend(loc=\"upper right\")\n",
    "plt.title(\"Posterior distributions of $p_A$, $p_B$, and delta unknowns\")\n",
    "\n",
    "ax = plt.subplot(312)\n",
    "\n",
    "plt.xlim(0, .1)\n",
    "plt.hist(p_B_samples, histtype='stepfilled', bins=25, alpha=0.85,\n",
    "         label=\"posterior of $p_B$\", color=\"#467821\", normed=True)\n",
    "plt.vlines(true_p_B, 0, 80, linestyle=\"--\", label=\"true $p_B$ (unknown)\")\n",
    "plt.legend(loc=\"upper right\")\n",
    "\n",
    "ax = plt.subplot(313)\n",
    "plt.hist(delta_samples, histtype='stepfilled', bins=30, alpha=0.85,\n",
    "         label=\"posterior of delta\", color=\"#7A68A6\", normed=True)\n",
    "plt.vlines(true_p_A - true_p_B, 0, 60, linestyle=\"--\",\n",
    "           label=\"true delta (unknown)\")\n",
    "plt.vlines(0, 0, 60, color=\"black\", alpha=0.2)\n",
    "plt.legend(loc=\"upper right\");"
   ]
  },
  {
   "cell_type": "markdown",
   "metadata": {
    "slideshow": {
     "slide_type": "slide"
    }
   },
   "source": [
    "$delta$が良くなっているという推論が間違っているかどうかの確率は以下でわかる。"
   ]
  },
  {
   "cell_type": "code",
   "execution_count": 20,
   "metadata": {},
   "outputs": [
    {
     "name": "stdout",
     "output_type": "stream",
     "text": [
      "Probability site A is WORSE than site B: 0.472\n",
      "Probability site A is BETTER than site B: 0.528\n"
     ]
    }
   ],
   "source": [
    "print(\"Probability site A is WORSE than site B: %.3f\" % \\\n",
    "    (delta_samples < 0).mean())\n",
    "\n",
    "print(\"Probability site A is BETTER than site B: %.3f\" % \\\n",
    "    (delta_samples > 0).mean())"
   ]
  },
  {
   "cell_type": "markdown",
   "metadata": {},
   "source": [
    " 間違っている確率が高すぎる感があるが、サイトA,Bのデータをもっと増やせば推論の質が上がる。ここまでがA/Bテストのベイズ推論による方法である。仮設検定よりわかりやすい!!!(筆者曰く)"
   ]
  }
 ],
 "metadata": {
  "celltoolbar": "Slideshow",
  "kernelspec": {
   "display_name": "Python 3",
   "language": "python",
   "name": "python3"
  },
  "language_info": {
   "codemirror_mode": {
    "name": "ipython",
    "version": 3
   },
   "file_extension": ".py",
   "mimetype": "text/x-python",
   "name": "python",
   "nbconvert_exporter": "python",
   "pygments_lexer": "ipython3",
   "version": "3.6.1"
  }
 },
 "nbformat": 4,
 "nbformat_minor": 2
}
