{
 "cells": [
  {
   "cell_type": "code",
   "execution_count": 2,
   "metadata": {
    "collapsed": false
   },
   "outputs": [
    {
     "ename": "IndentationError",
     "evalue": "expected an indented block (<ipython-input-2-428e9c42f3ec>, line 65)",
     "output_type": "error",
     "traceback": [
      "\u001b[0;36m  File \u001b[0;32m\"<ipython-input-2-428e9c42f3ec>\"\u001b[0;36m, line \u001b[0;32m65\u001b[0m\n\u001b[0;31m    self.bb_score = np.r_[self.bb_score, bb_score]\u001b[0m\n\u001b[0m       ^\u001b[0m\n\u001b[0;31mIndentationError\u001b[0m\u001b[0;31m:\u001b[0m expected an indented block\n"
     ]
    }
   ],
   "source": [
    "%matplotlib inline\n",
    "import numpy as np\n",
    "import scipy.stats as stats\n",
    "from IPython.core.pylabtools import figsize\n",
    "import matplotlib.pyplot as plt\n",
    "rand = np.random.rand\n",
    "\n",
    "class Bandits(object):\n",
    "    \"\"\"\n",
    "    N個のバンディットを表すクラス\n",
    "    パラメータ：p_array: 0から1までのN個の確率のNumpy array\n",
    "    メソッド：pull(i): アームを引いた結果（0か1)を返す\n",
    "    \"\"\"\n",
    "    \n",
    "    def __init__(self, p_array):\n",
    "        self.p = p_array\n",
    "        self.optimal = np.argmax(p_array)\n",
    "        \n",
    "    def pull(self, i):\n",
    "        #i is which arm to pull\n",
    "        return np.random.rand() < self.p[i]\n",
    "    \n",
    "    def __len__(self):\n",
    "        return len(self.p)\n",
    "\n",
    "    \n",
    "class BayesianStrategy(object):\n",
    "    \"\"\"\n",
    "    多腕バンディット問題を解くオンライン学習の実装\n",
    "    パラメータ：bandits: バンディットクラス\n",
    "    メソッド：sample_bandits(n): n回引いて学習する\n",
    "    属性：\n",
    "    　N: サンプルの試行回数\n",
    "      choices: N回の選択履歴のarray\n",
    "      bb_choices: N回のスコア履歴のarray\n",
    "    \"\"\"\n",
    "    \n",
    "    def __init__(self, bandits):\n",
    "        \n",
    "        self.bandits = bandits\n",
    "        n_bandits = len(self.bandits)\n",
    "        self.wins = np.zeros(n_bandits)\n",
    "        self.trials = np.zeros(n_bandits)\n",
    "        self.N = 0\n",
    "        self.choices = []\n",
    "        self.bb_score = []\n",
    "\n",
    "    \n",
    "    def sample_bandits(self, n=1):\n",
    "        \n",
    "        bb_score = np.zeros(n)\n",
    "        choices = np.zeros(n)\n",
    "        \n",
    "        for k in range(n):\n",
    "            #実装して\n",
    "            \n",
    "            \n",
    "            #バンディットの事前分布からサンプリングし、最も値の大きいサンプルを選択する\n",
    "            \n",
    "            #選択したバンディットからサンプリング\n",
    "            \n",
    "            #事前分布とスコアを更新\n",
    "            \n",
    "            \n",
    "        self.bb_score = np.r_[self.bb_score, bb_score]\n",
    "        self.choices = np.r_[self.choices, choices]\n",
    "        return"
   ]
  },
  {
   "cell_type": "code",
   "execution_count": 3,
   "metadata": {
    "collapsed": false
   },
   "outputs": [
    {
     "ename": "NameError",
     "evalue": "name 'figsize' is not defined",
     "output_type": "error",
     "traceback": [
      "\u001b[0;31m---------------------------------------------------------------------------\u001b[0m",
      "\u001b[0;31mNameError\u001b[0m                                 Traceback (most recent call last)",
      "\u001b[0;32m<ipython-input-3-8ff786928c58>\u001b[0m in \u001b[0;36m<module>\u001b[0;34m()\u001b[0m\n\u001b[0;32m----> 1\u001b[0;31m \u001b[0mfigsize\u001b[0m\u001b[0;34m(\u001b[0m\u001b[0;36m11.0\u001b[0m\u001b[0;34m,\u001b[0m \u001b[0;36m10\u001b[0m\u001b[0;34m)\u001b[0m\u001b[0;34m\u001b[0m\u001b[0m\n\u001b[0m\u001b[1;32m      2\u001b[0m \u001b[0;34m\u001b[0m\u001b[0m\n\u001b[1;32m      3\u001b[0m \u001b[0mbeta\u001b[0m \u001b[0;34m=\u001b[0m \u001b[0mstats\u001b[0m\u001b[0;34m.\u001b[0m\u001b[0mbeta\u001b[0m\u001b[0;34m\u001b[0m\u001b[0m\n\u001b[1;32m      4\u001b[0m \u001b[0mx\u001b[0m \u001b[0;34m=\u001b[0m \u001b[0mnp\u001b[0m\u001b[0;34m.\u001b[0m\u001b[0mlinspace\u001b[0m\u001b[0;34m(\u001b[0m\u001b[0;36m0.001\u001b[0m\u001b[0;34m,\u001b[0m\u001b[0;36m.999\u001b[0m\u001b[0;34m,\u001b[0m\u001b[0;36m200\u001b[0m\u001b[0;34m)\u001b[0m\u001b[0;34m\u001b[0m\u001b[0m\n\u001b[1;32m      5\u001b[0m \u001b[0;34m\u001b[0m\u001b[0m\n",
      "\u001b[0;31mNameError\u001b[0m: name 'figsize' is not defined"
     ]
    }
   ],
   "source": [
    "figsize(11.0, 10)\n",
    "\n",
    "beta = stats.beta\n",
    "x = np.linspace(0.001,.999,200)\n",
    "\n",
    "def plot_priors(bayesian_strategy, prob, lw = 3, alpha = 0.2, plt_vlines = True):\n",
    "    ## plotting function\n",
    "    wins = bayesian_strategy.wins\n",
    "    trials = bayesian_strategy.trials\n",
    "    for i in range(prob.shape[0]):\n",
    "        y = beta(1+wins[i], 1 + trials[i] - wins[i])\n",
    "        p = plt.plot(x, y.pdf(x), lw = lw)\n",
    "        c = p[0].get_markeredgecolor()\n",
    "        plt.fill_between(x,y.pdf(x),0, color = c, alpha = alpha, \n",
    "                         label=\"underlying probability: %.2f\" % prob[i])\n",
    "        if plt_vlines:\n",
    "            plt.vlines(prob[i], 0, y.pdf(prob[i]) ,\n",
    "                       colors = c, linestyles = \"--\", lw = 2)\n",
    "        plt.autoscale(tight = \"True\")\n",
    "        plt.title(\"Posteriors After %d pull\" % bayesian_strategy.N +\\\n",
    "                    \"s\"*(bayesian_strategy.N > 1))\n",
    "        plt.autoscale(tight=True)\n",
    "    return"
   ]
  },
  {
   "cell_type": "code",
   "execution_count": null,
   "metadata": {
    "collapsed": true
   },
   "outputs": [],
   "source": [
    "hidden_prob = np.array([0.85, 0.60, 0.75])\n",
    "bandits = Bandits(hidden_prob)\n",
    "bayesian_strat = BayesianStrategy(bandits)\n",
    "\n",
    "draw_samples = [1, 1, 3, 10, 10, 25, 50, 100, 200, 600]\n",
    "\n",
    "for j,i in enumerate(draw_samples):\n",
    "    plt.subplot(5, 2, j+1) \n",
    "    bayesian_strat.sample_bandits(i)\n",
    "    plot_priors(bayesian_strat, hidden_prob)\n",
    "    #plt.legend()\n",
    "    plt.autoscale(tight = True)\n",
    "plt.tight_layout()"
   ]
  }
 ],
 "metadata": {
  "kernelspec": {
   "display_name": "Python 3",
   "language": "python",
   "name": "python3"
  },
  "language_info": {
   "codemirror_mode": {
    "name": "ipython",
    "version": 3
   },
   "file_extension": ".py",
   "mimetype": "text/x-python",
   "name": "python",
   "nbconvert_exporter": "python",
   "pygments_lexer": "ipython3",
   "version": "3.6.0"
  }
 },
 "nbformat": 4,
 "nbformat_minor": 2
}
