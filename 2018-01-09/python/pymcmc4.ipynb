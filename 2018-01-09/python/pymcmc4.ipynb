{
 "cells": [
  {
   "cell_type": "code",
   "execution_count": 15,
   "metadata": {},
   "outputs": [],
   "source": [
    "from IPython.core.pylabtools import figsize\n",
    "import numpy as np\n",
    "from numpy.random import dirichlet\n",
    "from matplotlib import pyplot as plt\n",
    "from scipy.stats import beta, ttest_rel\n",
    "%matplotlib inline\n",
    "figsize(12.5, 4)"
   ]
  },
  {
   "cell_type": "markdown",
   "metadata": {},
   "source": [
    "データ作成"
   ]
  },
  {
   "cell_type": "code",
   "execution_count": 2,
   "metadata": {},
   "outputs": [],
   "source": [
    "n = 250\n",
    "mu_a, std_a = 30, 4\n",
    "mu_b, std_b = 26, 7\n",
    "\n",
    "durations_a = np.random.normal(mu_a, std_a, size=n)\n",
    "durations_b = np.random.normal(mu_b, std_b, size=n)"
   ]
  },
  {
   "cell_type": "code",
   "execution_count": 3,
   "metadata": {},
   "outputs": [
    {
     "name": "stdout",
     "output_type": "stream",
     "text": [
      "[ 31.36818684  23.81112781  35.7224307   26.82656201  33.93419251\n",
      "  31.83574893  28.00167145  26.76281222]\n",
      "[ 10.86991901  14.85919005  26.94126976  20.70317792  22.97948978\n",
      "  14.73700854  32.71649182  22.66712684]\n"
     ]
    }
   ],
   "source": [
    "print(durations_a[:8])\n",
    "print(durations_b[:8])"
   ]
  },
  {
   "cell_type": "markdown",
   "metadata": {},
   "source": [
    "平均値の事前分布の定義"
   ]
  },
  {
   "cell_type": "code",
   "execution_count": 4,
   "metadata": {},
   "outputs": [],
   "source": [
    "import pymc as pm\n",
    "pooled_mean = np.r_[durations_a, durations_b].mean()\n",
    "pooled_std = np.r_[durations_a, durations_b].std()\n",
    "\n",
    "#pymcでは標準偏差ではなく精度を使う\n",
    "tau = 1.  / np.sqrt(1000. * pooled_std)\n",
    "\n",
    "mu_a = pm.Normal(\"mu_a\", pooled_mean, tau)\n",
    "mu_b = pm.Normal(\"mu_b\", pooled_mean, tau)"
   ]
  },
  {
   "cell_type": "markdown",
   "metadata": {},
   "source": [
    "標準偏差の事前分布の定義"
   ]
  },
  {
   "cell_type": "code",
   "execution_count": 5,
   "metadata": {},
   "outputs": [],
   "source": [
    "std_a = pm.Uniform(\"std_a\", pooled_std / 1000.,\n",
    "                                      1000. * pooled_std)\n",
    "std_b = pm.Uniform(\"std_b\", pooled_std / 1000.,\n",
    "                                      1000. * pooled_std)"
   ]
  },
  {
   "cell_type": "markdown",
   "metadata": {},
   "source": [
    "t検定のパラメータ、νの分布を定義"
   ]
  },
  {
   "cell_type": "code",
   "execution_count": 6,
   "metadata": {},
   "outputs": [],
   "source": [
    "nu_minus_1 = pm.Exponential(\"nu-1\", 1. / 29)"
   ]
  },
  {
   "cell_type": "markdown",
   "metadata": {},
   "source": [
    "モデル構築"
   ]
  },
  {
   "cell_type": "code",
   "execution_count": 7,
   "metadata": {},
   "outputs": [],
   "source": [
    "obs_a = pm.NoncentralT(\"obs_a\", mu_a,\n",
    "                                              1.0 / std_a**2, nu_minus_1 + 1,\n",
    "                                                observed=True, value=durations_a)\n",
    "obs_b = pm.NoncentralT(\"obs_b\", mu_b,\n",
    "                                              1.0 / std_b**2, nu_minus_1 + 1,\n",
    "                                                observed=True, value=durations_b)"
   ]
  },
  {
   "cell_type": "code",
   "execution_count": 8,
   "metadata": {},
   "outputs": [
    {
     "name": "stdout",
     "output_type": "stream",
     "text": [
      "\r",
      " [---               8%                  ] 2067 of 25000 complete in 0.5 sec\r",
      " [------           16%                  ] 4223 of 25000 complete in 1.0 sec\r",
      " [---------        24%                  ] 6197 of 25000 complete in 1.5 sec\r",
      " [------------     32%                  ] 8027 of 25000 complete in 2.0 sec\r",
      " [--------------   39%                  ] 9762 of 25000 complete in 2.5 sec\r",
      " [-----------------45%                  ] 11395 of 25000 complete in 3.0 sec\r",
      " [-----------------51%                  ] 12819 of 25000 complete in 3.5 sec\r",
      " [-----------------58%--                ] 14510 of 25000 complete in 4.0 sec\r",
      " [-----------------64%----              ] 16145 of 25000 complete in 4.5 sec\r",
      " [-----------------71%-------           ] 17805 of 25000 complete in 5.0 sec\r",
      " [-----------------77%---------         ] 19473 of 25000 complete in 5.5 sec\r",
      " [-----------------84%------------      ] 21181 of 25000 complete in 6.0 sec\r",
      " [-----------------91%--------------    ] 22876 of 25000 complete in 6.5 sec\r",
      " [-----------------97%----------------- ] 24461 of 25000 complete in 7.0 sec\r",
      " [-----------------100%-----------------] 25000 of 25000 complete in 7.2 sec"
     ]
    }
   ],
   "source": [
    "mcmc = pm.MCMC([obs_a, obs_b,\n",
    "                                   mu_a, mu_b, std_a, std_b, nu_minus_1])\n",
    "mcmc.sample(25000, 10000)"
   ]
  },
  {
   "cell_type": "code",
   "execution_count": 9,
   "metadata": {},
   "outputs": [],
   "source": [
    "mu_a_trace = mcmc.trace('mu_a')[:]\n",
    "mu_b_trace = mcmc.trace('mu_b')[:]\n",
    "std_a_trace = mcmc.trace('std_a')[:]\n",
    "std_b_trace = mcmc.trace('std_b')[:]\n",
    "nu_trace = mcmc.trace(\"nu-1\")[:] + 1"
   ]
  },
  {
   "cell_type": "code",
   "execution_count": 10,
   "metadata": {},
   "outputs": [],
   "source": [
    "figsize(12, 8)\n",
    "\n",
    "def _hist(data, label, **kwargs):\n",
    "    return plt.hist(data, bins=40, histtype='stepfilled',\n",
    "                   alpha=.95, label=label, **kwargs)"
   ]
  },
  {
   "cell_type": "code",
   "execution_count": 14,
   "metadata": {},
   "outputs": [
    {
     "name": "stderr",
     "output_type": "stream",
     "text": [
      "/Users/daron/.pyenv/versions/anaconda3-4.3.1/envs/py36/lib/python3.6/site-packages/matplotlib/axes/_axes.py:545: UserWarning: No labelled objects found. Use label='...' kwarg on individual plots.\n",
      "  warnings.warn(\"No labelled objects found. \"\n"
     ]
    },
    {
     "data": {
      "image/png": "[encoded data removed]",
      "text/plain": [
       "<matplotlib.figure.Figure at 0x115978b38>"
      ]
     },
     "metadata": {},
     "output_type": "display_data"
    }
   ],
   "source": [
    "ax = plt.subplot(3, 1, 1)\n",
    "_hist(mu_a_trace, 'A')\n",
    "_hist(mu_b_trace, 'B')\n",
    "plt.legend()\n",
    "plt.xlabel('Value')\n",
    "plt.ylabel('Density')\n",
    "plt.title('Posterior distribution of $\\mu$')\n",
    "\n",
    "ax = plt.subplot(3, 1, 2)\n",
    "_hist(std_a_trace, 'A')\n",
    "_hist(std_b_trace, 'B')\n",
    "plt.legend()\n",
    "plt.xlabel('Value')\n",
    "plt.ylabel('Density')\n",
    "plt.title('Posterior distribution of $\\sigma$')\n",
    "\n",
    "ax = plt.subplot(3, 1, 3)\n",
    "_hist(nu_trace, '', color='#7A68A6')\n",
    "plt.legend()\n",
    "plt.xlabel('Value')\n",
    "plt.ylabel('Density')\n",
    "plt.title(r'Posterior distribution of $\\nu$')\n",
    "\n",
    "plt.tight_layout()"
   ]
  },
  {
   "cell_type": "markdown",
   "metadata": {},
   "source": [
    "一般のt検定"
   ]
  },
  {
   "cell_type": "code",
   "execution_count": 16,
   "metadata": {},
   "outputs": [],
   "source": [
    "t, p = ttest_rel(durations_a, durations_b)"
   ]
  },
  {
   "cell_type": "code",
   "execution_count": 17,
   "metadata": {},
   "outputs": [
    {
     "name": "stdout",
     "output_type": "stream",
     "text": [
      "p値 = 2.31597943405e-11\n"
     ]
    }
   ],
   "source": [
    "print( \"p値 = %(p)s\" %locals() )"
   ]
  }
 ],
 "metadata": {
  "kernelspec": {
   "display_name": "Python 3",
   "language": "python",
   "name": "python3"
  },
  "language_info": {
   "codemirror_mode": {
    "name": "ipython",
    "version": 3
   },
   "file_extension": ".py",
   "mimetype": "text/x-python",
   "name": "python",
   "nbconvert_exporter": "python",
   "pygments_lexer": "ipython3",
   "version": "3.6.1"
  }
 },
 "nbformat": 4,
 "nbformat_minor": 2
}
